{
 "cells": [
  {
   "cell_type": "markdown",
   "id": "d5b04a75",
   "metadata": {},
   "source": [
    "# Guessing number"
   ]
  },
  {
   "cell_type": "code",
   "execution_count": 16,
   "id": "2827c253",
   "metadata": {},
   "outputs": [
    {
     "name": "stdout",
     "output_type": "stream",
     "text": [
      "New number: 12\n",
      "number too small\n",
      "New number: 16\n",
      "Congratulations. you made it!\n"
     ]
    }
   ],
   "source": [
    "import random\n",
    "n=20\n",
    "to_be_guessed = int(n*random.random()) + 1\n",
    "guess = 0\n",
    "while guess != to_be_guessed:\n",
    "    guess = int(input(\"New number: \"))\n",
    "    if guess > 0:\n",
    "        if guess > to_be_guessed:\n",
    "            print(\"numbr too large\")\n",
    "        elif guess < to_be_guessed:\n",
    "            print(\"number too small\")\n",
    "    else:\n",
    "        print(\"sorry that you're giving up!\")\n",
    "        break\n",
    "else:\n",
    "    print(\"Congratulations. you made it!\")"
   ]
  },
  {
   "cell_type": "markdown",
   "id": "e797b8a6",
   "metadata": {},
   "source": [
    "## For loop"
   ]
  },
  {
   "cell_type": "code",
   "execution_count": 17,
   "id": "63e37935",
   "metadata": {},
   "outputs": [
    {
     "name": "stdout",
     "output_type": "stream",
     "text": [
      "current fruits:  Mango\n",
      "current fruits:  Grapes\n",
      "current fruits:  Apple\n",
      "Good bye\n"
     ]
    }
   ],
   "source": [
    "fruits = ['Mango','Grapes','Apple']\n",
    "\n",
    "for fruit in fruits:\n",
    "    print(\"current fruits: \", fruit)\n",
    "print(\"Good bye\")"
   ]
  },
  {
   "cell_type": "code",
   "execution_count": 19,
   "id": "15aeb732",
   "metadata": {},
   "outputs": [
    {
     "name": "stdout",
     "output_type": "stream",
     "text": [
      "Number: 5\n",
      "120\n"
     ]
    }
   ],
   "source": [
    "num = int(input(\"Number: \"))\n",
    "factorial = 1\n",
    "\n",
    "if num<0:\n",
    "    print(\"Must be positive\")\n",
    "elif num == 0:\n",
    "    print(\"factorial = 1\")\n",
    "else:\n",
    "    for i in range(1, num+1):\n",
    "        factorial = factorial * i\n",
    "print(factorial)"
   ]
  },
  {
   "cell_type": "code",
   "execution_count": null,
   "id": "5b1cd0c0",
   "metadata": {},
   "outputs": [],
   "source": [
    "print('Welcome to State Bank Of India')\n",
    "restart='Y'\n",
    "chances=3\n",
    "balance = 67.14\n",
    "while chances >= 0:\n",
    "    pin = int(input('Please Enter your 4 Digit Pin: '))\n",
    "    if pin == (1234):\n",
    "        print('You entered your pin correctly \\n')\n",
    "        while restart not in ('n','No','no','N'):\n",
    "            print('Please Press 1 For Your Balance\\n')\n",
    "            print('Please Press 2 For Your Withdrawl\\n')\n",
    "            print('Please Press 3 For Your Pay\\n')\n",
    "            print('Please Press 4 For Your Card\\n')\n",
    "            option = int(input('Would you like to go back?'))\n",
    "            if option == 1:\n",
    "                print('Your balance is Rs',balance, '\\n')\n",
    "                restart = input('Would you like to go back?')\n",
    "                if restart in ('n','No','no','N'):\n",
    "                    print('Thank You')\n",
    "                    break\n",
    "            elif option ==2:\n",
    "                option2 = 'Y'\n",
    "                withdrawl = float(input('how much you would like to withdrawl?'))\n",
    "                if withdrawl in [10,20,40,60,80,100]:\n",
    "                    balance = balance - withdrawl\n",
    "                    print('\\nYour Balance is now: Rs',balance)\n",
    "                    restart = input('Would you like to go back?')\n",
    "                    if restart in ('n','No','no','N'):\n",
    "                        print('Thank You')\n",
    "                        break\n",
    "                elif withdrawl != [10,20,40,60,80,100]:\n",
    "                    print('Invalid Amount, Please Re-Try\\n')\n",
    "                    restart = 'Y'\n",
    "                elif withdrawl == 1:\n",
    "                    withdrawl = float(input('Please enter desired amount: '))\n",
    "            elif option == 3:\n",
    "                Pay_in = float(input('How much would you like to pay in?'))\n",
    "                balance = balance + Pay_in\n",
    "                print('\\nYour balance is now', balance)\n",
    "                restart = input('Would you like to go back?')\n",
    "                if restart in ('n','No','no','N'):\n",
    "                    print('Thank You')\n",
    "                    break\n",
    "            elif option == 4:\n",
    "                print('Please wait while your card is returning...\\n')\n",
    "                print('Thankyou for you service')\n",
    "                break\n",
    "            else:\n",
    "                print('Please enter a correct number.\\n')\n",
    "                restart = 'y'\n",
    "    elif pin != ('1234'):\n",
    "        print('Incorrect Password')\n",
    "        chances = chances - 1\n",
    "        if chances == 0:\n",
    "            print('\\nNo more tries')\n",
    "            break"
   ]
  },
  {
   "cell_type": "code",
   "execution_count": null,
   "id": "f11521b9",
   "metadata": {},
   "outputs": [],
   "source": []
  }
 ],
 "metadata": {
  "kernelspec": {
   "display_name": "Python 3",
   "language": "python",
   "name": "python3"
  },
  "language_info": {
   "codemirror_mode": {
    "name": "ipython",
    "version": 3
   },
   "file_extension": ".py",
   "mimetype": "text/x-python",
   "name": "python",
   "nbconvert_exporter": "python",
   "pygments_lexer": "ipython3",
   "version": "3.8.8"
  }
 },
 "nbformat": 4,
 "nbformat_minor": 5
}
