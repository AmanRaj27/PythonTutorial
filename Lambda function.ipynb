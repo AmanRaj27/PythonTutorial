{
 "cells": [
  {
   "cell_type": "markdown",
   "id": "f0f171d0",
   "metadata": {},
   "source": [
    "# Lambda functions"
   ]
  },
  {
   "cell_type": "code",
   "execution_count": 1,
   "id": "7c00fa14",
   "metadata": {},
   "outputs": [
    {
     "data": {
      "text/plain": [
       "9"
      ]
     },
     "execution_count": 1,
     "metadata": {},
     "output_type": "execute_result"
    }
   ],
   "source": [
    "# lambda arguments:expression\n",
    "x=lambda a:a*a\n",
    "x(3)"
   ]
  },
  {
   "cell_type": "code",
   "execution_count": 2,
   "id": "383529f4",
   "metadata": {},
   "outputs": [
    {
     "data": {
      "text/plain": [
       "9"
      ]
     },
     "execution_count": 2,
     "metadata": {},
     "output_type": "execute_result"
    }
   ],
   "source": [
    "def new(a):\n",
    "    return a*a\n",
    "new(3)"
   ]
  },
  {
   "cell_type": "markdown",
   "id": "fff54963",
   "metadata": {},
   "source": [
    "## Lambda within user-defined function"
   ]
  },
  {
   "cell_type": "code",
   "execution_count": 3,
   "id": "b016a7cd",
   "metadata": {},
   "outputs": [
    {
     "name": "stdout",
     "output_type": "stream",
     "text": [
      "12\n"
     ]
    }
   ],
   "source": [
    "def A(x):\n",
    "    return(lambda y:x+y)\n",
    "t = A(4)\n",
    "print(t(8))"
   ]
  },
  {
   "cell_type": "code",
   "execution_count": 4,
   "id": "82c12b71",
   "metadata": {},
   "outputs": [
    {
     "name": "stdout",
     "output_type": "stream",
     "text": [
      "12\n",
      "12\n"
     ]
    }
   ],
   "source": [
    "def A(x):\n",
    "    return(lambda y:x+y)\n",
    "t = A(4)\n",
    "print(t(8))\n",
    "u = A(7)\n",
    "print(u(5))"
   ]
  },
  {
   "cell_type": "markdown",
   "id": "94e80e70",
   "metadata": {},
   "source": [
    "## Lambda within filter()"
   ]
  },
  {
   "cell_type": "code",
   "execution_count": 5,
   "id": "bcbaced5",
   "metadata": {},
   "outputs": [
    {
     "name": "stdout",
     "output_type": "stream",
     "text": [
      "[6]\n"
     ]
    }
   ],
   "source": [
    "mylist=[1,2,3,4,5,6]\n",
    "newlist = list(filter(lambda a:(a/3==2),mylist))\n",
    "print(newlist)"
   ]
  },
  {
   "cell_type": "markdown",
   "id": "6dea6cd0",
   "metadata": {},
   "source": [
    "## Lambda within map()"
   ]
  },
  {
   "cell_type": "code",
   "execution_count": 6,
   "id": "90450c71",
   "metadata": {},
   "outputs": [
    {
     "name": "stdout",
     "output_type": "stream",
     "text": [
      "[True, True, True, True, True, False]\n"
     ]
    }
   ],
   "source": [
    "# map(func, iterables)\n",
    "mylist=[1,2,3,4,5,6]\n",
    "p=list(map(lambda a:(a/3 != 2),mylist))\n",
    "print(p)"
   ]
  },
  {
   "cell_type": "markdown",
   "id": "de0c70e0",
   "metadata": {},
   "source": [
    "## Lambda within reduce()"
   ]
  },
  {
   "cell_type": "code",
   "execution_count": 9,
   "id": "1eb1130d",
   "metadata": {},
   "outputs": [
    {
     "data": {
      "text/plain": [
       "221"
      ]
     },
     "execution_count": 9,
     "metadata": {},
     "output_type": "execute_result"
    }
   ],
   "source": [
    "# reduce(function, sequence)\n",
    "from functools import reduce  # import functools or from functools import *\n",
    "reduce(lambda a,b:a+b, [23,56,43,98,1])"
   ]
  },
  {
   "cell_type": "markdown",
   "id": "0ca0671e",
   "metadata": {},
   "source": [
    "## Lambda for Algebra"
   ]
  },
  {
   "cell_type": "markdown",
   "id": "62cfe43c",
   "metadata": {},
   "source": [
    "### linear equations"
   ]
  },
  {
   "cell_type": "code",
   "execution_count": 10,
   "id": "47bb7b33",
   "metadata": {},
   "outputs": [
    {
     "data": {
      "text/plain": [
       "16"
      ]
     },
     "execution_count": 10,
     "metadata": {},
     "output_type": "execute_result"
    }
   ],
   "source": [
    "s = lambda a:a*a\n",
    "s(4)"
   ]
  },
  {
   "cell_type": "code",
   "execution_count": 11,
   "id": "99dac60b",
   "metadata": {},
   "outputs": [
    {
     "data": {
      "text/plain": [
       "40"
      ]
     },
     "execution_count": 11,
     "metadata": {},
     "output_type": "execute_result"
    }
   ],
   "source": [
    "# 3x+4y\n",
    "d=lambda x,y: 3*x+4*y\n",
    "d(4,7)"
   ]
  },
  {
   "cell_type": "markdown",
   "id": "e952fe9b",
   "metadata": {},
   "source": [
    "## Quadratic equation"
   ]
  },
  {
   "cell_type": "code",
   "execution_count": 13,
   "id": "d5fd8cbc",
   "metadata": {},
   "outputs": [
    {
     "data": {
      "text/plain": [
       "49"
      ]
     },
     "execution_count": 13,
     "metadata": {},
     "output_type": "execute_result"
    }
   ],
   "source": [
    "#(a+b)^2\n",
    "x=lambda a,b: (a+b)**2\n",
    "x(3,4)"
   ]
  },
  {
   "cell_type": "code",
   "execution_count": null,
   "id": "80312f84",
   "metadata": {},
   "outputs": [],
   "source": []
  }
 ],
 "metadata": {
  "kernelspec": {
   "display_name": "Python 3",
   "language": "python",
   "name": "python3"
  },
  "language_info": {
   "codemirror_mode": {
    "name": "ipython",
    "version": 3
   },
   "file_extension": ".py",
   "mimetype": "text/x-python",
   "name": "python",
   "nbconvert_exporter": "python",
   "pygments_lexer": "ipython3",
   "version": "3.8.8"
  }
 },
 "nbformat": 4,
 "nbformat_minor": 5
}
