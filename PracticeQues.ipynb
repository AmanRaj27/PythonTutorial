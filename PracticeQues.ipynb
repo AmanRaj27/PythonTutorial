{
 "cells": [
  {
   "cell_type": "code",
   "execution_count": 3,
   "id": "5682344f",
   "metadata": {},
   "outputs": [
    {
     "name": "stdout",
     "output_type": "stream",
     "text": [
      "Maximum Number?5\n",
      "3 4 5\n",
      "4 3 5\n"
     ]
    }
   ],
   "source": [
    "from math import sqrt\n",
    "n = int(input('Maximum Number?'))\n",
    "for a in range(1,n+1):\n",
    "    for b in range(1,n):\n",
    "        c_square = a**2 + b**2\n",
    "        c = int(sqrt(c_square))\n",
    "        if((c_square - c**2) == 0):\n",
    "            print(a,b,c)"
   ]
  },
  {
   "cell_type": "code",
   "execution_count": 5,
   "id": "ed758d21",
   "metadata": {},
   "outputs": [
    {
     "name": "stdout",
     "output_type": "stream",
     "text": [
      "Yes or No:Yes\n",
      "Number of people travelling: 1\n",
      "Name: Aman Raj\n",
      "Age: 24\n",
      "Male or Female: Male\n",
      "Aman Raj\n",
      "24\n",
      "Male\n",
      "Oops! forget someone: No\n"
     ]
    }
   ],
   "source": [
    "travelling = input(\"Yes or No:\")\n",
    "\n",
    "while travelling == \"Yes\":\n",
    "    num = int(input(\"Number of people travelling: \"))\n",
    "    \n",
    "    for num in range(1,num+1):\n",
    "        name = input(\"Name: \")\n",
    "        age = input(\"Age: \")\n",
    "        sex = input(\"Male or Female: \")\n",
    "        print(name)\n",
    "        print(age)\n",
    "        print(sex)\n",
    "    travelling = input(\"Oops! forget someone: \")"
   ]
  },
  {
   "cell_type": "code",
   "execution_count": null,
   "id": "751edc75",
   "metadata": {},
   "outputs": [],
   "source": []
  }
 ],
 "metadata": {
  "kernelspec": {
   "display_name": "Python 3",
   "language": "python",
   "name": "python3"
  },
  "language_info": {
   "codemirror_mode": {
    "name": "ipython",
    "version": 3
   },
   "file_extension": ".py",
   "mimetype": "text/x-python",
   "name": "python",
   "nbconvert_exporter": "python",
   "pygments_lexer": "ipython3",
   "version": "3.8.8"
  }
 },
 "nbformat": 4,
 "nbformat_minor": 5
}
