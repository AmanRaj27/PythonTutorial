{
 "cells": [
  {
   "cell_type": "markdown",
   "id": "55b2af11",
   "metadata": {},
   "source": [
    "# Functions"
   ]
  },
  {
   "cell_type": "code",
   "execution_count": 17,
   "id": "15857c57",
   "metadata": {},
   "outputs": [
    {
     "name": "stdout",
     "output_type": "stream",
     "text": [
      "Hello Dear learner\n",
      "Dear learner , how you doing?\n"
     ]
    }
   ],
   "source": [
    "def func1(name):\n",
    "    return f\"Hello {name}\"\n",
    "def func2(name):\n",
    "    return f\"{name} , how you doing?\"\n",
    "def func3(func4):\n",
    "    return func4('Dear learner')\n",
    "print(func3(func1))\n",
    "print(func3(func2))"
   ]
  },
  {
   "cell_type": "markdown",
   "id": "b229d578",
   "metadata": {},
   "source": [
    "## inner function"
   ]
  },
  {
   "cell_type": "code",
   "execution_count": null,
   "id": "8abb02ff",
   "metadata": {},
   "outputs": [],
   "source": [
    "# def func():\n",
    "    print(\"first function\")\n",
    "    def func1():\n",
    "        print(\"first child function\")\n",
    "    def func2():\n",
    "        print(\"second child function\")\n",
    "    \n",
    "    func1()\n",
    "    func2()\n",
    "func()"
   ]
  },
  {
   "cell_type": "code",
   "execution_count": 24,
   "id": "97963b2e",
   "metadata": {},
   "outputs": [
    {
     "name": "stdout",
     "output_type": "stream",
     "text": [
      "edureka\n",
      "python\n"
     ]
    }
   ],
   "source": [
    "def func(n):\n",
    "    def func1():\n",
    "        return \"edureka\"\n",
    "    def func2():\n",
    "        return \"python\"\n",
    "    if n == 1:\n",
    "        return func1\n",
    "    else:\n",
    "        return func2\n",
    "a = func(1)\n",
    "b = func(2)\n",
    "print(a())\n",
    "print(b())"
   ]
  },
  {
   "cell_type": "markdown",
   "id": "1feb5a71",
   "metadata": {},
   "source": [
    "## Decorators"
   ]
  },
  {
   "cell_type": "code",
   "execution_count": 26,
   "id": "7c824a3b",
   "metadata": {},
   "outputs": [
    {
     "name": "stdout",
     "output_type": "stream",
     "text": [
      "hello\n",
      "pythonista\n",
      "welcome to python edureka tutorial\n"
     ]
    }
   ],
   "source": [
    "def function1(function):\n",
    "    def wrapper():\n",
    "        print(\"hello\")\n",
    "        function()\n",
    "        print(\"welcome to python edureka tutorial\")\n",
    "    return wrapper\n",
    "def function2():\n",
    "    print(\"pythonista\")\n",
    "    \n",
    "function2 = function1(function2)\n",
    "function2()"
   ]
  },
  {
   "cell_type": "code",
   "execution_count": 27,
   "id": "0a3823ba",
   "metadata": {},
   "outputs": [
    {
     "name": "stdout",
     "output_type": "stream",
     "text": [
      "hello\n",
      "pythonista\n",
      "welcome to python edureka tutorial\n"
     ]
    }
   ],
   "source": [
    "def function1(function):\n",
    "    def wrapper():\n",
    "        print(\"hello\")\n",
    "        function()\n",
    "        print(\"welcome to python edureka tutorial\")\n",
    "    return wrapper\n",
    "@function1\n",
    "def function2():\n",
    "    print(\"pythonista\")\n",
    "    \n",
    "function2()"
   ]
  },
  {
   "cell_type": "code",
   "execution_count": 28,
   "id": "0dbd76da",
   "metadata": {},
   "outputs": [
    {
     "name": "stdout",
     "output_type": "stream",
     "text": [
      "hello\n",
      "Aman\n",
      "welcome to edureka python tutorial\n"
     ]
    }
   ],
   "source": [
    "def function1(function):\n",
    "    def wrapper(*args, **kwargs):\n",
    "        print(\"hello\")\n",
    "        function(*args, **kwargs)\n",
    "        print(\"welcome to edureka python tutorial\")\n",
    "    return wrapper\n",
    "@function1\n",
    "def function2(name):\n",
    "    print(f\"{name}\")\n",
    "function2(\"Aman\")\n"
   ]
  },
  {
   "cell_type": "code",
   "execution_count": 29,
   "id": "a76d7dbd",
   "metadata": {},
   "outputs": [
    {
     "name": "stdout",
     "output_type": "stream",
     "text": [
      "it worked\n"
     ]
    }
   ],
   "source": [
    "def function1(function):\n",
    "    def wrapper(*args, **kwargs):\n",
    "        print(\"it worked\")\n",
    "    return wrapper\n",
    "@function1\n",
    "def function2(name):\n",
    "    print(f\"{name}\")\n",
    "function2(\"python\")\n"
   ]
  },
  {
   "cell_type": "code",
   "execution_count": 35,
   "id": "6482d5a7",
   "metadata": {},
   "outputs": [
    {
     "ename": "TypeError",
     "evalue": "Square() takes no arguments",
     "output_type": "error",
     "traceback": [
      "\u001b[1;31m---------------------------------------------------------------------------\u001b[0m",
      "\u001b[1;31mTypeError\u001b[0m                                 Traceback (most recent call last)",
      "\u001b[1;32m<ipython-input-35-7a4f5f939d89>\u001b[0m in \u001b[0;36m<module>\u001b[1;34m\u001b[0m\n\u001b[0;32m     17\u001b[0m     \u001b[1;32mdef\u001b[0m \u001b[0munit_square\u001b[0m\u001b[1;33m(\u001b[0m\u001b[0mcls\u001b[0m\u001b[1;33m)\u001b[0m\u001b[1;33m:\u001b[0m\u001b[1;33m\u001b[0m\u001b[1;33m\u001b[0m\u001b[0m\n\u001b[0;32m     18\u001b[0m         \u001b[1;32mreturn\u001b[0m \u001b[0mcls\u001b[0m\u001b[1;33m(\u001b[0m\u001b[1;36m1\u001b[0m\u001b[1;33m)\u001b[0m\u001b[1;33m\u001b[0m\u001b[1;33m\u001b[0m\u001b[0m\n\u001b[1;32m---> 19\u001b[1;33m \u001b[0ms\u001b[0m \u001b[1;33m=\u001b[0m \u001b[0mSquare\u001b[0m\u001b[1;33m(\u001b[0m\u001b[1;36m5\u001b[0m\u001b[1;33m)\u001b[0m\u001b[1;33m\u001b[0m\u001b[1;33m\u001b[0m\u001b[0m\n\u001b[0m\u001b[0;32m     20\u001b[0m \u001b[0mprint\u001b[0m\u001b[1;33m(\u001b[0m\u001b[0ms\u001b[0m\u001b[1;33m.\u001b[0m\u001b[0mside\u001b[0m\u001b[1;33m)\u001b[0m\u001b[1;33m\u001b[0m\u001b[1;33m\u001b[0m\u001b[0m\n\u001b[0;32m     21\u001b[0m \u001b[0mprint\u001b[0m\u001b[1;33m(\u001b[0m\u001b[0ms\u001b[0m\u001b[1;33m.\u001b[0m\u001b[0marea\u001b[0m\u001b[1;33m)\u001b[0m\u001b[1;33m\u001b[0m\u001b[1;33m\u001b[0m\u001b[0m\n",
      "\u001b[1;31mTypeError\u001b[0m: Square() takes no arguments"
     ]
    }
   ],
   "source": [
    "class Square:\n",
    "    def _init_(self,side):\n",
    "        self._side = side\n",
    "    @property\n",
    "    def side(self):\n",
    "        return self._side\n",
    "    @side.setter\n",
    "    def side(self,value):\n",
    "        if value >= 0:\n",
    "            self._side = value\n",
    "        else:\n",
    "            print(\"error\")\n",
    "    @property\n",
    "    def area(self):\n",
    "        return self._side **2\n",
    "    @classmethod\n",
    "    def unit_square(cls):\n",
    "        return cls(1)\n",
    "s = Square(5)\n",
    "print(s.side)\n",
    "print(s.area)"
   ]
  },
  {
   "cell_type": "code",
   "execution_count": 40,
   "id": "76eb9ef4",
   "metadata": {},
   "outputs": [],
   "source": [
    "import functools\n",
    "def singleton(cls):\n",
    "    @functools.wraps(cls)\n",
    "    def wrapper(*args,**kwargs):\n",
    "        if not wrapper.instance:\n",
    "            wrapper.instance = cls(*args, *kwargs)\n",
    "        return wrapper.instance\n",
    "    wrapper.instance = None\n",
    "    return wrapper\n",
    "@singleton\n",
    "class one:\n",
    "    pass"
   ]
  },
  {
   "cell_type": "markdown",
   "id": "39aee910",
   "metadata": {},
   "source": [
    "## Nested Decorators"
   ]
  },
  {
   "cell_type": "code",
   "execution_count": 5,
   "id": "cc18987e",
   "metadata": {},
   "outputs": [
    {
     "name": "stdout",
     "output_type": "stream",
     "text": [
      "python\n",
      "python\n",
      "python\n",
      "python\n"
     ]
    }
   ],
   "source": [
    "import functools\n",
    "\n",
    "def repeat(num):\n",
    "    def decorator_repeat(func):\n",
    "        @functools.wraps(func)\n",
    "        def wrapper(*args, **kwargs):\n",
    "            for i in range(num):\n",
    "                value = func(*args, **kwargs)\n",
    "            return value\n",
    "        return wrapper\n",
    "    return decorator_repeat\n",
    "@repeat(num=4)\n",
    "def function(name):\n",
    "    print(f\"{name}\")\n",
    "function(\"python\")"
   ]
  },
  {
   "cell_type": "code",
   "execution_count": null,
   "id": "40735274",
   "metadata": {},
   "outputs": [],
   "source": []
  }
 ],
 "metadata": {
  "kernelspec": {
   "display_name": "Python 3",
   "language": "python",
   "name": "python3"
  },
  "language_info": {
   "codemirror_mode": {
    "name": "ipython",
    "version": 3
   },
   "file_extension": ".py",
   "mimetype": "text/x-python",
   "name": "python",
   "nbconvert_exporter": "python",
   "pygments_lexer": "ipython3",
   "version": "3.8.8"
  }
 },
 "nbformat": 4,
 "nbformat_minor": 5
}
