{
 "cells": [
  {
   "cell_type": "markdown",
   "id": "4bc2572e",
   "metadata": {},
   "source": [
    "# Map"
   ]
  },
  {
   "cell_type": "code",
   "execution_count": 3,
   "id": "08d782db",
   "metadata": {},
   "outputs": [
    {
     "name": "stdout",
     "output_type": "stream",
     "text": [
      "<map object at 0x000002583FE22460>\n",
      "[1, 4, 9, 16]\n"
     ]
    }
   ],
   "source": [
    "# map(func, iterables)\n",
    "def new(a):\n",
    "    return a*a\n",
    "x = map(new,[1,2,3,4])\n",
    "print(x)\n",
    "print(list(x))"
   ]
  },
  {
   "cell_type": "code",
   "execution_count": 4,
   "id": "e5add0a2",
   "metadata": {},
   "outputs": [
    {
     "name": "stdout",
     "output_type": "stream",
     "text": [
      "<map object at 0x000002583FE22490>\n",
      "[2, 6, 12, 20]\n"
     ]
    }
   ],
   "source": [
    "# map(func, iterables)\n",
    "def new(a,b):\n",
    "    return a*b\n",
    "x = map(new,[1,2,3,4],[2,3,4,5])\n",
    "print(x)\n",
    "print(list(x))"
   ]
  },
  {
   "cell_type": "code",
   "execution_count": 5,
   "id": "8dd6da90",
   "metadata": {},
   "outputs": [
    {
     "name": "stdout",
     "output_type": "stream",
     "text": [
      "[4, 5, 6, 7, 8]\n"
     ]
    }
   ],
   "source": [
    "lst=[1,2,3,4,5]\n",
    "y=list(map(lambda x: x+3, lst))\n",
    "print(y)"
   ]
  },
  {
   "cell_type": "markdown",
   "id": "5c1ee1c5",
   "metadata": {},
   "source": [
    "## Filter"
   ]
  },
  {
   "cell_type": "code",
   "execution_count": 1,
   "id": "52be6e53",
   "metadata": {},
   "outputs": [
    {
     "name": "stdout",
     "output_type": "stream",
     "text": [
      "<filter object at 0x0000025F50D8FDF0>\n"
     ]
    }
   ],
   "source": [
    "# filter(functions, iterables)\n",
    "def new1(i):\n",
    "    if i>=3:\n",
    "        return i\n",
    "j=filter(new1,(1,2,3,4,5,6,7))\n",
    "print(j)"
   ]
  },
  {
   "cell_type": "code",
   "execution_count": 2,
   "id": "ade53c3d",
   "metadata": {},
   "outputs": [
    {
     "name": "stdout",
     "output_type": "stream",
     "text": [
      "(3, 4, 5, 6, 7)\n"
     ]
    }
   ],
   "source": [
    "print(tuple(j))"
   ]
  },
  {
   "cell_type": "code",
   "execution_count": 3,
   "id": "d8f3ac19",
   "metadata": {},
   "outputs": [
    {
     "name": "stdout",
     "output_type": "stream",
     "text": [
      "[3, 4, 5, 6, 7]\n"
     ]
    }
   ],
   "source": [
    "z=filter(lambda x:(x>=3),(1,2,3,4,5,6,7))\n",
    "print(list(z))"
   ]
  },
  {
   "cell_type": "markdown",
   "id": "13d46e57",
   "metadata": {},
   "source": [
    "## Reduce"
   ]
  },
  {
   "cell_type": "code",
   "execution_count": 5,
   "id": "f5814925",
   "metadata": {},
   "outputs": [
    {
     "name": "stdout",
     "output_type": "stream",
     "text": [
      "49\n"
     ]
    }
   ],
   "source": [
    "# reduce(function, iterables)\n",
    "from functools import reduce\n",
    "def a(x,y):\n",
    "    return x+y\n",
    "s=reduce(a,[1,3,4,5,6,7,7,8,8])\n",
    "print(s)"
   ]
  },
  {
   "cell_type": "code",
   "execution_count": 8,
   "id": "7c2b5459",
   "metadata": {},
   "outputs": [
    {
     "data": {
      "text/plain": [
       "35280"
      ]
     },
     "execution_count": 8,
     "metadata": {},
     "output_type": "execute_result"
    }
   ],
   "source": [
    "reduce(lambda q,p: q*p,[1,2,3,4,5,6,7,7])"
   ]
  },
  {
   "cell_type": "markdown",
   "id": "7b7e117e",
   "metadata": {},
   "source": [
    "## filter with map"
   ]
  },
  {
   "cell_type": "code",
   "execution_count": 9,
   "id": "171f5a0b",
   "metadata": {},
   "outputs": [
    {
     "name": "stdout",
     "output_type": "stream",
     "text": [
      "(8, 10)\n"
     ]
    }
   ],
   "source": [
    "c=map(lambda x:x+x, filter(lambda x:(x>=4),[2,3,4,5]))\n",
    "print(tuple(c))"
   ]
  },
  {
   "cell_type": "code",
   "execution_count": 15,
   "id": "d83e4915",
   "metadata": {},
   "outputs": [
    {
     "name": "stdout",
     "output_type": "stream",
     "text": [
      "{4, 6, 8, 10, 12}\n"
     ]
    }
   ],
   "source": [
    "d=filter(lambda x:(x>=4), map(lambda x:x+x, [2,3,4,5,6]))\n",
    "print(set(d))"
   ]
  },
  {
   "cell_type": "markdown",
   "id": "3e152904",
   "metadata": {},
   "source": [
    "## map and filter within reduce"
   ]
  },
  {
   "cell_type": "code",
   "execution_count": 16,
   "id": "1286f03e",
   "metadata": {},
   "outputs": [
    {
     "name": "stdout",
     "output_type": "stream",
     "text": [
      "20\n"
     ]
    }
   ],
   "source": [
    "r=reduce(lambda x,y:x+y, map(lambda x:x+x, filter(lambda x: (x<=4),[1,2,3,4,5,6,7])))\n",
    "print(r)"
   ]
  },
  {
   "cell_type": "code",
   "execution_count": null,
   "id": "3dcec59e",
   "metadata": {},
   "outputs": [],
   "source": []
  }
 ],
 "metadata": {
  "kernelspec": {
   "display_name": "Python 3",
   "language": "python",
   "name": "python3"
  },
  "language_info": {
   "codemirror_mode": {
    "name": "ipython",
    "version": 3
   },
   "file_extension": ".py",
   "mimetype": "text/x-python",
   "name": "python",
   "nbconvert_exporter": "python",
   "pygments_lexer": "ipython3",
   "version": "3.8.8"
  }
 },
 "nbformat": 4,
 "nbformat_minor": 5
}
