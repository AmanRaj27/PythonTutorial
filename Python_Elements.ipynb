{
 "cells": [
  {
   "cell_type": "markdown",
   "id": "740e955f",
   "metadata": {},
   "source": [
    "# Collections:\n",
    "## namedtuple"
   ]
  },
  {
   "cell_type": "code",
   "execution_count": 2,
   "id": "440a485c",
   "metadata": {},
   "outputs": [
    {
     "name": "stdout",
     "output_type": "stream",
     "text": [
      "courses(name='data science', technology='python')\n"
     ]
    }
   ],
   "source": [
    "from collections import namedtuple\n",
    "a = namedtuple('courses', 'name, technology')\n",
    "s = a('data science', 'python')\n",
    "print(s)"
   ]
  },
  {
   "cell_type": "code",
   "execution_count": 5,
   "id": "5fda4458",
   "metadata": {},
   "outputs": [
    {
     "name": "stdout",
     "output_type": "stream",
     "text": [
      "courses(name='artificial intelligence', technology='python')\n"
     ]
    }
   ],
   "source": [
    "#tuple using a list\n",
    "from collections import namedtuple\n",
    "a = namedtuple('courses', 'name, technology')\n",
    "s = a._make(['artificial intelligence', 'python'])\n",
    "print(s)"
   ]
  },
  {
   "cell_type": "markdown",
   "id": "542d53ee",
   "metadata": {},
   "source": [
    "# deque "
   ]
  },
  {
   "cell_type": "code",
   "execution_count": 6,
   "id": "d154ab84",
   "metadata": {},
   "outputs": [
    {
     "name": "stdout",
     "output_type": "stream",
     "text": [
      "deque(['e', 'd', 'u', 'r', 'e', 'k', 'a'])\n"
     ]
    }
   ],
   "source": [
    "from collections import deque\n",
    "a = ['e','d','u','r','e','k','a']\n",
    "d = deque(a)\n",
    "print(d)"
   ]
  },
  {
   "cell_type": "code",
   "execution_count": 7,
   "id": "f2b989da",
   "metadata": {},
   "outputs": [
    {
     "name": "stdout",
     "output_type": "stream",
     "text": [
      "deque(['e', 'd', 'u', 'r', 'e', 'k', 'a', 'python'])\n"
     ]
    }
   ],
   "source": [
    "d.append('python')\n",
    "print(d)"
   ]
  },
  {
   "cell_type": "code",
   "execution_count": 8,
   "id": "ca7f5a4a",
   "metadata": {},
   "outputs": [
    {
     "name": "stdout",
     "output_type": "stream",
     "text": [
      "deque(['python', 'e', 'd', 'u', 'r', 'e', 'k', 'a', 'python'])\n"
     ]
    }
   ],
   "source": [
    "d.appendleft('python')\n",
    "print(d)"
   ]
  },
  {
   "cell_type": "code",
   "execution_count": 9,
   "id": "91c37707",
   "metadata": {},
   "outputs": [
    {
     "name": "stdout",
     "output_type": "stream",
     "text": [
      "deque(['python', 'e', 'd', 'u', 'r', 'e', 'k', 'a'])\n"
     ]
    }
   ],
   "source": [
    "d.pop()\n",
    "print(d)"
   ]
  },
  {
   "cell_type": "code",
   "execution_count": 10,
   "id": "f1dc3f58",
   "metadata": {},
   "outputs": [
    {
     "name": "stdout",
     "output_type": "stream",
     "text": [
      "deque(['e', 'd', 'u', 'r', 'e', 'k', 'a'])\n"
     ]
    }
   ],
   "source": [
    "d.popleft()\n",
    "print(d)"
   ]
  },
  {
   "cell_type": "markdown",
   "id": "15c9f718",
   "metadata": {},
   "source": [
    "# ChainMap"
   ]
  },
  {
   "cell_type": "code",
   "execution_count": 15,
   "id": "29d7824f",
   "metadata": {},
   "outputs": [
    {
     "name": "stdout",
     "output_type": "stream",
     "text": [
      "ChainMap({1: 'edureka', 2: 'python'}, {3: 'ML', 4: 'AI'})\n"
     ]
    }
   ],
   "source": [
    "from collections import ChainMap\n",
    "a = {1: 'edureka', 2: 'python'}\n",
    "b = {3: 'ML', 4: 'AI'}\n",
    "a1 = ChainMap(a,b)\n",
    "print(a1)"
   ]
  },
  {
   "cell_type": "markdown",
   "id": "7fa4fae1",
   "metadata": {},
   "source": [
    "# Counter"
   ]
  },
  {
   "cell_type": "code",
   "execution_count": 25,
   "id": "f940a5dd",
   "metadata": {},
   "outputs": [
    {
     "name": "stdout",
     "output_type": "stream",
     "text": [
      "Counter({2: 5, 4: 3, 1: 2, 3: 2, 5: 2, 6: 1})\n",
      "[1, 1, 2, 2, 2, 2, 2, 3, 3, 4, 4, 4, 5, 5, 6]\n",
      "[(2, 5), (4, 3), (1, 2), (3, 2), (5, 2), (6, 1)]\n",
      "None\n",
      "[(2, 4), (4, 3), (1, 2), (3, 2), (5, 2), (6, 0)]\n"
     ]
    }
   ],
   "source": [
    "from collections import Counter\n",
    "a = [1,1,2,3,2,2,4,5,4,5,4,3,6,2,2]\n",
    "c = Counter(a)\n",
    "print(c)\n",
    "\n",
    "# element() function\n",
    "print(list(c.elements()))\n",
    "\n",
    "# most_common() function\n",
    "print(c.most_common())\n",
    "\n",
    "# subtract() function\n",
    "sub = {2:1, 6:1}\n",
    "print(c.subtract(sub))\n",
    "print(c.most_common())"
   ]
  },
  {
   "cell_type": "markdown",
   "id": "9f41e6bf",
   "metadata": {},
   "source": [
    "# OrderedDict"
   ]
  },
  {
   "cell_type": "code",
   "execution_count": 27,
   "id": "d55fd382",
   "metadata": {},
   "outputs": [
    {
     "name": "stdout",
     "output_type": "stream",
     "text": [
      "OrderedDict([(1, 'e'), (2, 'd'), (3, 'u'), (4, 'r'), (5, 'e'), (6, 'k'), (7, 'a')])\n"
     ]
    }
   ],
   "source": [
    "from collections import OrderedDict\n",
    "\n",
    "d = OrderedDict()\n",
    "d[1] = 'e'\n",
    "d[2] = 'd'\n",
    "d[3] = 'u'\n",
    "d[4] = 'r'\n",
    "d[5] = 'e'\n",
    "d[6] = 'k'\n",
    "d[7] = 'a'\n",
    "\n",
    "print(d)"
   ]
  },
  {
   "cell_type": "code",
   "execution_count": 30,
   "id": "1bd97012",
   "metadata": {},
   "outputs": [
    {
     "name": "stdout",
     "output_type": "stream",
     "text": [
      "odict_keys([1, 2, 3, 4, 5, 6, 7])\n",
      "odict_items([(1, 'e'), (2, 'd'), (3, 'u'), (4, 'r'), (5, 'e'), (6, 'k'), (7, 'a')])\n"
     ]
    }
   ],
   "source": [
    "print(d.keys())\n",
    "print(d.items())"
   ]
  },
  {
   "cell_type": "markdown",
   "id": "469df75c",
   "metadata": {},
   "source": [
    "# defaultdict"
   ]
  },
  {
   "cell_type": "code",
   "execution_count": 37,
   "id": "56f93f7e",
   "metadata": {},
   "outputs": [
    {
     "name": "stdout",
     "output_type": "stream",
     "text": [
      "defaultdict(<class 'int'>, {1: 'python', 2: 'edureka'})\n"
     ]
    }
   ],
   "source": [
    "from collections import defaultdict\n",
    "\n",
    "d = defaultdict(int)\n",
    "\n",
    "d[1] = 'python'\n",
    "d[2] = 'edureka'\n",
    "\n",
    "print(d)\n",
    "\n",
    "## with normal dictionary it will throw an error\n",
    "#### Error\n",
    "\n",
    "\n",
    "#a = {1: 'python', 2: 'edureka'}\n",
    "#print(a[3])\n",
    "\n",
    "\n",
    "## that's why we use defaultdict"
   ]
  },
  {
   "cell_type": "code",
   "execution_count": null,
   "id": "fd30ec4d",
   "metadata": {},
   "outputs": [],
   "source": []
  }
 ],
 "metadata": {
  "kernelspec": {
   "display_name": "Python 3",
   "language": "python",
   "name": "python3"
  },
  "language_info": {
   "codemirror_mode": {
    "name": "ipython",
    "version": 3
   },
   "file_extension": ".py",
   "mimetype": "text/x-python",
   "name": "python",
   "nbconvert_exporter": "python",
   "pygments_lexer": "ipython3",
   "version": "3.8.8"
  }
 },
 "nbformat": 4,
 "nbformat_minor": 5
}
